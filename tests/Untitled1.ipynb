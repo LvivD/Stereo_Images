{
 "cells": [
  {
   "cell_type": "code",
   "execution_count": 3,
   "metadata": {},
   "outputs": [],
   "source": [
    "import numpy as np"
   ]
  },
  {
   "cell_type": "code",
   "execution_count": 6,
   "metadata": {},
   "outputs": [
    {
     "name": "stdout",
     "output_type": "stream",
     "text": [
      "array([[ 0,  1,  2,  3,  4],\n",
      "       [ 5,  6,  7,  8,  9],\n",
      "       [10, 11, 12, 13, 14],\n",
      "       [15, 16, 17, 18, 19],\n",
      "       [20, 21, 22, 23, 24]])\n",
      "array([[ 4,  1,  2,  3,  0],\n",
      "       [ 9,  6,  7,  8,  5],\n",
      "       [14, 11, 12, 13, 10],\n",
      "       [19, 16, 17, 18, 15],\n",
      "       [24, 21, 22, 23, 20]])\n"
     ]
    }
   ],
   "source": [
    "c = np.arange(25).reshape(5, 5)\n",
    "print(repr(c))\n",
    "# array([[ 0,  1,  2,  3,  4],\n",
    "#        [ 5,  6,  7,  8,  9],\n",
    "#        [10, 11, 12, 13, 14],\n",
    "#        [15, 16, 17, 18, 19],\n",
    "#        [20, 21, 22, 23, 24]])\n",
    "\n",
    "# c[[0, 4], :] = c[[4, 0], :]     # swap row 0 with row 4...\n",
    "c[:, [0, 4]] = c[:, [4, 0]]     # ...and column 0 with column 4\n",
    "\n",
    "print(repr(c))\n",
    "\n",
    "# array([[24, 21, 22, 23, 20],\n",
    "#        [ 9,  6,  7,  8,  5],\n",
    "#        [14, 11, 12, 13, 10],\n",
    "#        [19, 16, 17, 18, 15],\n",
    "#        [ 4,  1,  2,  3,  0]])"
   ]
  },
  {
   "cell_type": "code",
   "execution_count": null,
   "metadata": {},
   "outputs": [],
   "source": []
  }
 ],
 "metadata": {
  "kernelspec": {
   "display_name": "Python 3",
   "language": "python",
   "name": "python3"
  },
  "language_info": {
   "codemirror_mode": {
    "name": "ipython",
    "version": 3
   },
   "file_extension": ".py",
   "mimetype": "text/x-python",
   "name": "python",
   "nbconvert_exporter": "python",
   "pygments_lexer": "ipython3",
   "version": "3.8.2"
  }
 },
 "nbformat": 4,
 "nbformat_minor": 4
}
